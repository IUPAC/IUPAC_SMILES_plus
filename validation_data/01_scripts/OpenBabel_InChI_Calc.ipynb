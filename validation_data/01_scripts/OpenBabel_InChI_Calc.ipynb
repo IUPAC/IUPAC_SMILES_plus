{
 "cells": [
  {
   "cell_type": "code",
   "execution_count": 12,
   "metadata": {},
   "outputs": [],
   "source": [
    "# Open Babel SMILES to InChI Calculation\n",
    "# Load Open Babel Modules\n",
    "\n",
    "# For Open Babel 2.4.1\n",
    "# import pybel\n",
    "\n",
    "# Open Babel 3.0.0\n",
    "\n",
    "from openbabel import openbabel as ob\n",
    "from openbabel import pybel"
   ]
  },
  {
   "cell_type": "code",
   "execution_count": 14,
   "metadata": {},
   "outputs": [],
   "source": [
    "# Calculate InChI from SMILES\n",
    "# SMILES → Open Babel Molecular Object → InChI\n",
    "\n",
    "# Set up conversion to InChI\n",
    "conv = pybel.ob.OBConversion()\n",
    "conv.SetOutFormat(\"inchi\")\n",
    "# conv.SetOptions(\"K\", conv.OUTOPTIONS)  # use this for IK\n",
    "\n",
    "# loop through SMILES and calculate InChI\n",
    "with open(\"input_file.smi\") as inp:\n",
    "    with open(\"OpenBabel_3.0.0_InChIs_output_file.inchi\", 'w') as out:\n",
    "        for i, line in enumerate(inp):\n",
    "            try:\n",
    "                mol = pybel.readstring(\"smi\",line)\n",
    "            except IOError:\n",
    "                out.write(\"SMILES_parse_error\" + \"\\t\" + str(i) + \"\\n\".format(inchi))\n",
    "                continue\n",
    "            # N.B. No InChI Options\n",
    "            inchi = conv.WriteString(mol.OBMol)\n",
    "            \n",
    "            if not inchi: # captures an empty string return on inchi calc\n",
    "                out.write(\"InChI_calculation_empty\"  + \"\\t\" + str(i) + \"\\n\".format(inchi))\n",
    "                continue\n",
    "            out.write(inchi.rstrip() + \"\\t\" + str(i) + \"\\n\".format(inchi))\n",
    "out.close()"
   ]
  },
  {
   "cell_type": "code",
   "execution_count": null,
   "metadata": {},
   "outputs": [],
   "source": []
  }
 ],
 "metadata": {
  "kernelspec": {
   "display_name": "Python [conda env:my-openbabel_300-env]",
   "language": "python",
   "name": "conda-env-my-openbabel_300-env-py"
  },
  "language_info": {
   "codemirror_mode": {
    "name": "ipython",
    "version": 3
   },
   "file_extension": ".py",
   "mimetype": "text/x-python",
   "name": "python",
   "nbconvert_exporter": "python",
   "pygments_lexer": "ipython3",
   "version": "3.8.1"
  }
 },
 "nbformat": 4,
 "nbformat_minor": 2
}
