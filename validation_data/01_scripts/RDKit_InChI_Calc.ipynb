{
 "cells": [
  {
   "cell_type": "code",
   "execution_count": 2,
   "metadata": {},
   "outputs": [
    {
     "name": "stdout",
     "output_type": "stream",
     "text": [
      "2019.09.2\n"
     ]
    }
   ],
   "source": [
    "# Load RDKit modules\n",
    "from rdkit import Chem\n",
    "from rdkit.Chem.Draw import IPythonConsole\n",
    "from rdkit.Chem import Draw\n",
    "from rdkit.Chem import AllChem\n",
    "\n",
    "# For Error Logs\n",
    "from io import StringIO\n",
    "import sys\n",
    "Chem.WrapLogs()\n",
    "\n",
    "# For csv import\n",
    "import csv\n",
    "\n",
    "# RDKit Version\n",
    "from rdkit import rdBase\n",
    "print(rdBase.rdkitVersion)"
   ]
  },
  {
   "cell_type": "code",
   "execution_count": 4,
   "metadata": {},
   "outputs": [],
   "source": [
    "# Calculate InChI from SMILES\n",
    "# SMILES → RDKit Molecular Object → InChI v1.05\n",
    "# Adapted from https://iwatobipen.wordpress.com/2018/01/06/simple-way-for-making-smiles-file-rdkit/\n",
    "\n",
    "# Record errors\n",
    "# http://rdkit.blogspot.com/2016/03/capturing-error-information.html\n",
    "sio = sys.stderr = StringIO()\n",
    "er = open(\"RDKit_2019.09.2_InChIs_input_file_LOG_file.txt\", \"a\")\n",
    "\n",
    "# Import SMILES file\n",
    "inp = Chem.SmilesMolSupplier('input_file.smi',titleLine=False, delimiter ='\\t')\n",
    "\n",
    "# Loop through SMILES and calculate InChI\n",
    "with open('RDKit_2019.09.2_InChIs_output_file.inchi', 'w') as out:\n",
    "    for i, mol in enumerate(inp):\n",
    "        if not mol: \n",
    "            out.write(\"SMILES_parse_error\" + \"\\t\" + str(i) + \"\\n\".format(inchi))\n",
    "            print(sio.getvalue(), file=er)         \n",
    "            continue\n",
    "        \n",
    "        # No InChI options, calculates standard InChI   \n",
    "        inchi = Chem.MolToInchi(mol)\n",
    "        \n",
    "        if not inchi:\n",
    "            # This captures an empty string returned from the InChI calculation\n",
    "            # Here is an example: [C@H]1([C@H](C1C2[C@@H]([C@@H]2C(=O)O)C(=O)O)C(=O)O)C(=O)O\n",
    "            out.write(\"InChI_calculation_empty\" + \"\\t\" + str(i) + \"\\n\".format(inchi))\n",
    "            print(sio.getvalue(), file=er)\n",
    "            continue\n",
    "        out.write(inchi + \"\\t\" + str(i) + \"\\n\".format(inchi))\n",
    "        # reset error log\n",
    "        sio = sys.stderr = StringIO()\n",
    "               \n",
    "out.close()\n",
    "er.close()"
   ]
  },
  {
   "cell_type": "code",
   "execution_count": null,
   "metadata": {},
   "outputs": [],
   "source": []
  }
 ],
 "metadata": {
  "kernelspec": {
   "display_name": "Python [conda env:my-rdkit_2019_09_2-env] *",
   "language": "python",
   "name": "conda-env-my-rdkit_2019_09_2-env-py"
  },
  "language_info": {
   "codemirror_mode": {
    "name": "ipython",
    "version": 3
   },
   "file_extension": ".py",
   "mimetype": "text/x-python",
   "name": "python",
   "nbconvert_exporter": "python",
   "pygments_lexer": "ipython3",
   "version": "3.6.10"
  }
 },
 "nbformat": 4,
 "nbformat_minor": 2
}
