{
 "cells": [
  {
   "cell_type": "code",
   "execution_count": 1,
   "metadata": {},
   "outputs": [
    {
     "name": "stdout",
     "output_type": "stream",
     "text": [
      "2020.03.3\n"
     ]
    }
   ],
   "source": [
    "# Load RDKit modules\n",
    "from rdkit import Chem\n",
    "from rdkit.Chem.Draw import IPythonConsole\n",
    "from rdkit.Chem import Draw\n",
    "from rdkit.Chem import AllChem\n",
    "\n",
    "# For Error Logs\n",
    "from io import StringIO\n",
    "import sys\n",
    "Chem.WrapLogs()\n",
    "\n",
    "# for changing directories\n",
    "import os\n",
    "\n",
    "# For csv import\n",
    "import csv\n",
    "\n",
    "# RDKit Version\n",
    "from rdkit import rdBase\n",
    "print(rdBase.rdkitVersion)"
   ]
  },
  {
   "cell_type": "code",
   "execution_count": 20,
   "metadata": {},
   "outputs": [],
   "source": [
    "# Calculate InChI from SMILES\n",
    "# SMILES → RDKit Molecular Object → InChI v1.05\n",
    "# Adapted from https://iwatobipen.wordpress.com/2018/01/06/simple-way-for-making-smiles-file-rdkit/\n",
    "\n",
    "# Record errors\n",
    "# http://rdkit.blogspot.com/2016/03/capturing-error-information.html\n",
    "\n",
    "os.chdir('/home/mydata')\n",
    "sio = sys.stderr = StringIO()\n",
    "er = open(\"RDKit_2020.03.3_InChIs_inputSMILES_LOG.txt\", \"a\")\n",
    "\n",
    "# Import SMILES file\n",
    "# Be careful here, some of the files are space delimited. \n",
    "# A VERY large log error file will be created if delimiter is set incorrectly.\n",
    "inp = Chem.SmilesMolSupplier('inputSMILES.smi',titleLine=False, delimiter ='\\t')\n",
    "\n",
    "# Loop through SMILES and calculate InChI\n",
    "with open('RDKit_2020.03.3_InChIs_inputSMILES.inchi', 'w') as out:\n",
    "    for i, mol in enumerate(inp):\n",
    "        if not mol: \n",
    "            out.write(\"ERROR\" + \"\\t\" + str(i) + \"\\n\".format(inchi))\n",
    "            print(sio.getvalue(), file=er)         \n",
    "            continue\n",
    "        \n",
    "        # No InChI options, calculates standard InChI   \n",
    "        inchi = Chem.MolToInchi(mol)\n",
    "        \n",
    "        if not inchi:\n",
    "            # This captures an empty string returned from the InChI calculation\n",
    "            # Here is an example: [C@H]1([C@H](C1C2[C@@H]([C@@H]2C(=O)O)C(=O)O)C(=O)O)C(=O)O\n",
    "            out.write(\"InChI_calculation_empty\" + \"\\t\" + str(i) + \"\\n\".format(inchi))\n",
    "            print(sio.getvalue(), file=er)\n",
    "            continue\n",
    "        out.write(inchi + \"\\t\" + str(i) + \"\\n\".format(inchi))\n",
    "        # reset error log\n",
    "        sio = sys.stderr = StringIO()\n",
    "               \n",
    "out.close()\n",
    "er.close()"
   ]
  }
 ],
 "metadata": {
  "kernelspec": {
   "display_name": "Python [conda env:my-rdkit_2020_03_3-env]",
   "language": "python",
   "name": "conda-env-my-rdkit_2020_03_3-env-py"
  },
  "language_info": {
   "codemirror_mode": {
    "name": "ipython",
    "version": 3
   },
   "file_extension": ".py",
   "mimetype": "text/x-python",
   "name": "python",
   "nbconvert_exporter": "python",
   "pygments_lexer": "ipython3",
   "version": "3.7.7"
  }
 },
 "nbformat": 4,
 "nbformat_minor": 4
}
