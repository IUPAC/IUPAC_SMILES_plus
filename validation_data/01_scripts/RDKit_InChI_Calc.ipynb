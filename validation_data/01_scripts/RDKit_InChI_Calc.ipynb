{
 "cells": [
  {
   "cell_type": "code",
   "execution_count": 33,
   "metadata": {},
   "outputs": [
    {
     "name": "stdout",
     "output_type": "stream",
     "text": [
      "2023.09.3\n"
     ]
    }
   ],
   "source": [
    "# Load RDKit modules\n",
    "from rdkit import Chem\n",
    "\n",
    "# For Error Logs\n",
    "from io import StringIO\n",
    "from contextlib import redirect_stderr\n",
    "import sys\n",
    "from rdkit import rdBase\n",
    "from rdkit import RDLogger\n",
    "\n",
    "# For changing directories\n",
    "import os\n",
    "\n",
    "# For csv import\n",
    "import csv\n",
    "\n",
    "# RDKit Version\n",
    "from rdkit import rdBase\n",
    "print(rdBase.rdkitVersion)"
   ]
  },
  {
   "cell_type": "code",
   "execution_count": 34,
   "metadata": {},
   "outputs": [],
   "source": [
    "# 1.0 Load SMILES validation data\n",
    "smiles_data = {}\n",
    "with open('test.smi', 'r') as infile:\n",
    "    reader = csv.reader(infile, delimiter='\\t')\n",
    "    \n",
    "    # Loop through each row in the CSV file\n",
    "    for row in reader:\n",
    "        # Add each pair to the dictionary\n",
    "        smiles_data[row[1]] = {'validation_smiles': row[0]}"
   ]
  },
  {
   "cell_type": "code",
   "execution_count": 35,
   "metadata": {},
   "outputs": [],
   "source": [
    "# 2.0 Calculate InChI from SMILES\n",
    "# SMILES → RDKit Molecular Object → InChI v1.06\n",
    "\n",
    "# Redirect RDKit logging to Python's standard error\n",
    "rdBase.LogToPythonStderr()\n",
    "original_stderr = sys.stderr\n",
    "\n",
    "# Loop through SMILES and calculate InChI\n",
    "with open(\"test.log\", \"a\") as log:\n",
    "    with open('test.inchi', 'w') as out:\n",
    "        \n",
    "        for key, value in smiles_data.items():\n",
    "\n",
    "            # Use a StringIO buffer to capture stderr\n",
    "            sio = StringIO()\n",
    "            sys.stderr = sio\n",
    "\n",
    "            try:\n",
    "                mol = Chem.MolFromSmiles(value['validation_smiles'])\n",
    "\n",
    "                # Log the error and warnings, if any\n",
    "                message = str(key) + \"\\t\" + str(sio.getvalue())\n",
    "               \n",
    "                if mol is not None: \n",
    "\n",
    "                   # Compute InChI\n",
    "                   inchi = Chem.MolToInchi(mol)\n",
    "\n",
    "                   # capture an empty string returned from the InChI calculation\n",
    "                   # Here is an example: [C@H]1([C@H](C1C2[C@@H]([C@@H]2C(=O)O)C(=O)O)C(=O)O)C(=O)O\n",
    "                   if not inchi:\n",
    "                       out.write(\"InChI=1S//\" + \"\\t\" + str(key) + \"\\n\")\n",
    "                       log.write(message + \"\\n\")\n",
    "                       continue\n",
    "\n",
    "                   # write InChi to file\n",
    "                   out.write(inchi + \"\\t\" + str(key) + \"\\n\")\n",
    "                   \n",
    "                   # write any warnings to file\n",
    "                   # If none, sio.getvalue() is an empty string\n",
    "                   if sio.getvalue() == \"\":\n",
    "                      log.write(str(key) + \"\\n\")\n",
    "                   else:\n",
    "                      log.write(message)\n",
    "                \n",
    "                # write the errors to file when mol is None\n",
    "                else:\n",
    "                   out.write(\"Error with processing, see log\" + \"\\t\" + str(key) + \"\\n\")\n",
    "                   log.write(message + \"\\n\")   \n",
    "\n",
    "            finally:\n",
    "                 # Reset stderr to its original value\n",
    "                sys.stderr = original_stderr\n",
    "\n",
    "# Re-enable RDKit logging\n",
    "RDLogger.EnableLog('rdApp.info')"
   ]
  },
  {
   "cell_type": "code",
   "execution_count": null,
   "metadata": {},
   "outputs": [],
   "source": []
  }
 ],
 "metadata": {
  "kernelspec": {
   "display_name": "rdkit1",
   "language": "python",
   "name": "python3"
  },
  "language_info": {
   "codemirror_mode": {
    "name": "ipython",
    "version": 3
   },
   "file_extension": ".py",
   "mimetype": "text/x-python",
   "name": "python",
   "nbconvert_exporter": "python",
   "pygments_lexer": "ipython3",
   "version": "3.12.0"
  }
 },
 "nbformat": 4,
 "nbformat_minor": 4
}
